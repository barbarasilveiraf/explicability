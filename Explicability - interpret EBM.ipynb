{
 "cells": [
  {
   "cell_type": "markdown",
   "metadata": {},
   "source": [
    "# Explicabilidade - Interpret - Decision Tree\n",
    "\n",
    "https://github.com/interpretml/interpret\n",
    "\n",
    "Fonte: https://nbviewer.jupyter.org/github/interpretml/interpret/blob/master/examples/python/notebooks/Interpretable%20Classification%20Methods.ipynb"
   ]
  },
  {
   "cell_type": "code",
   "execution_count": 3,
   "metadata": {
    "collapsed": true
   },
   "outputs": [
    {
     "name": "stdout",
     "output_type": "stream",
     "text": [
      "Collecting interpret\n",
      "  Downloading interpret-0.1.22-py3-none-any.whl (1.4 kB)\n",
      "Collecting interpret-core[dash,debug,decisiontree,ebm,lime,linear,notebook,plotly,required,sensitivity,shap,treeinterpreter]>=0.1.22\n",
      "  Downloading interpret_core-0.1.22-py3-none-any.whl (8.3 MB)\n",
      "\u001b[K     |████████████████████████████████| 8.3 MB 436 kB/s eta 0:00:01\n",
      "\u001b[?25hCollecting dash>=1.0.0; extra == \"dash\"\n",
      "  Downloading dash-1.13.4.tar.gz (67 kB)\n",
      "\u001b[K     |████████████████████████████████| 67 kB 555 kB/s eta 0:00:011\n",
      "\u001b[?25hCollecting dash-table>=4.1.0; extra == \"dash\"\n",
      "  Downloading dash_table-4.8.1.tar.gz (1.8 MB)\n",
      "\u001b[K     |████████████████████████████████| 1.8 MB 6.2 MB/s eta 0:00:01\n",
      "\u001b[?25hCollecting dash-cytoscape>=0.1.1; extra == \"dash\"\n",
      "  Downloading dash_cytoscape-0.1.1.tar.gz (3.4 MB)\n",
      "\u001b[K     |████████████████████████████████| 3.4 MB 6.0 MB/s eta 0:00:01\n",
      "\u001b[?25hRequirement already satisfied: requests>=2.19.0; extra == \"dash\" in /home/barbara/anaconda3/lib/python3.7/site-packages (from interpret-core[dash,debug,decisiontree,ebm,lime,linear,notebook,plotly,required,sensitivity,shap,treeinterpreter]>=0.1.22->interpret) (2.23.0)\n",
      "Requirement already satisfied: gevent>=1.3.6; extra == \"dash\" in /home/barbara/anaconda3/lib/python3.7/site-packages (from interpret-core[dash,debug,decisiontree,ebm,lime,linear,notebook,plotly,required,sensitivity,shap,treeinterpreter]>=0.1.22->interpret) (1.4.0)\n",
      "Requirement already satisfied: psutil>=5.6.2; extra == \"debug\" in /home/barbara/anaconda3/lib/python3.7/site-packages (from interpret-core[dash,debug,decisiontree,ebm,lime,linear,notebook,plotly,required,sensitivity,shap,treeinterpreter]>=0.1.22->interpret) (5.6.3)\n",
      "Requirement already satisfied: joblib>=0.11; extra == \"decisiontree\" in /home/barbara/anaconda3/lib/python3.7/site-packages (from interpret-core[dash,debug,decisiontree,ebm,lime,linear,notebook,plotly,required,sensitivity,shap,treeinterpreter]>=0.1.22->interpret) (0.14.1)\n",
      "Collecting lime>=0.1.1.33; extra == \"lime\"\n",
      "  Downloading lime-0.2.0.1.tar.gz (275 kB)\n",
      "\u001b[K     |████████████████████████████████| 275 kB 4.6 MB/s eta 0:00:01\n",
      "\u001b[?25hRequirement already satisfied: ipython>=7.4.0; extra == \"notebook\" in /home/barbara/anaconda3/lib/python3.7/site-packages (from interpret-core[dash,debug,decisiontree,ebm,lime,linear,notebook,plotly,required,sensitivity,shap,treeinterpreter]>=0.1.22->interpret) (7.8.0)\n",
      "Requirement already satisfied: ipykernel>=5.1.0; extra == \"notebook\" in /home/barbara/anaconda3/lib/python3.7/site-packages (from interpret-core[dash,debug,decisiontree,ebm,lime,linear,notebook,plotly,required,sensitivity,shap,treeinterpreter]>=0.1.22->interpret) (5.1.2)\n",
      "Requirement already satisfied: plotly>=3.8.1; extra == \"plotly\" in /home/barbara/anaconda3/lib/python3.7/site-packages (from interpret-core[dash,debug,decisiontree,ebm,lime,linear,notebook,plotly,required,sensitivity,shap,treeinterpreter]>=0.1.22->interpret) (4.5.2)\n",
      "Requirement already satisfied: scikit-learn>=0.18.1; extra == \"required\" in /home/barbara/anaconda3/lib/python3.7/site-packages (from interpret-core[dash,debug,decisiontree,ebm,lime,linear,notebook,plotly,required,sensitivity,shap,treeinterpreter]>=0.1.22->interpret) (0.22.2)\n",
      "Requirement already satisfied: numpy>=1.11.1; extra == \"required\" in /home/barbara/anaconda3/lib/python3.7/site-packages (from interpret-core[dash,debug,decisiontree,ebm,lime,linear,notebook,plotly,required,sensitivity,shap,treeinterpreter]>=0.1.22->interpret) (1.17.2)\n",
      "Requirement already satisfied: scipy>=0.18.1; extra == \"required\" in /home/barbara/anaconda3/lib/python3.7/site-packages (from interpret-core[dash,debug,decisiontree,ebm,lime,linear,notebook,plotly,required,sensitivity,shap,treeinterpreter]>=0.1.22->interpret) (1.4.1)\n",
      "Requirement already satisfied: pandas>=0.19.2; extra == \"required\" in /home/barbara/anaconda3/lib/python3.7/site-packages (from interpret-core[dash,debug,decisiontree,ebm,lime,linear,notebook,plotly,required,sensitivity,shap,treeinterpreter]>=0.1.22->interpret) (1.0.3)\n",
      "Collecting SALib>=1.3.3; extra == \"sensitivity\"\n",
      "  Downloading SALib-1.3.11.tar.gz (856 kB)\n",
      "\u001b[K     |████████████████████████████████| 856 kB 5.2 MB/s eta 0:00:01\n",
      "\u001b[?25hCollecting dill>=0.2.5; extra == \"shap\"\n",
      "  Downloading dill-0.3.2.zip (177 kB)\n",
      "\u001b[K     |████████████████████████████████| 177 kB 5.5 MB/s eta 0:00:01\n",
      "\u001b[?25hCollecting shap>=0.28.5; extra == \"shap\"\n",
      "  Downloading shap-0.35.0.tar.gz (273 kB)\n",
      "\u001b[K     |████████████████████████████████| 273 kB 5.5 MB/s eta 0:00:01\n",
      "\u001b[?25hCollecting treeinterpreter>=0.2.2; extra == \"treeinterpreter\"\n",
      "  Downloading treeinterpreter-0.2.2-py2.py3-none-any.whl (6.2 kB)\n",
      "Requirement already satisfied: Flask>=1.0.2 in /home/barbara/anaconda3/lib/python3.7/site-packages (from dash>=1.0.0; extra == \"dash\"->interpret-core[dash,debug,decisiontree,ebm,lime,linear,notebook,plotly,required,sensitivity,shap,treeinterpreter]>=0.1.22->interpret) (1.1.1)\n",
      "Collecting flask-compress\n",
      "  Downloading Flask-Compress-1.5.0.tar.gz (6.5 kB)\n",
      "Collecting dash_renderer==1.5.1\n",
      "  Downloading dash_renderer-1.5.1.tar.gz (1.2 MB)\n",
      "\u001b[K     |████████████████████████████████| 1.2 MB 5.7 MB/s eta 0:00:01\n",
      "\u001b[?25hCollecting dash-core-components==1.10.1\n",
      "  Downloading dash_core_components-1.10.1.tar.gz (3.4 MB)\n",
      "\u001b[K     |████████████████████████████████| 3.4 MB 5.0 MB/s eta 0:00:01\n",
      "\u001b[?25hCollecting dash-html-components==1.0.3\n",
      "  Downloading dash_html_components-1.0.3.tar.gz (187 kB)\n",
      "\u001b[K     |████████████████████████████████| 187 kB 6.1 MB/s eta 0:00:01\n",
      "\u001b[?25hRequirement already satisfied: future in /home/barbara/anaconda3/lib/python3.7/site-packages (from dash>=1.0.0; extra == \"dash\"->interpret-core[dash,debug,decisiontree,ebm,lime,linear,notebook,plotly,required,sensitivity,shap,treeinterpreter]>=0.1.22->interpret) (0.17.1)\n",
      "Requirement already satisfied: chardet<4,>=3.0.2 in /home/barbara/anaconda3/lib/python3.7/site-packages (from requests>=2.19.0; extra == \"dash\"->interpret-core[dash,debug,decisiontree,ebm,lime,linear,notebook,plotly,required,sensitivity,shap,treeinterpreter]>=0.1.22->interpret) (3.0.4)\n",
      "Requirement already satisfied: idna<3,>=2.5 in /home/barbara/anaconda3/lib/python3.7/site-packages (from requests>=2.19.0; extra == \"dash\"->interpret-core[dash,debug,decisiontree,ebm,lime,linear,notebook,plotly,required,sensitivity,shap,treeinterpreter]>=0.1.22->interpret) (2.8)\n",
      "Requirement already satisfied: certifi>=2017.4.17 in /home/barbara/anaconda3/lib/python3.7/site-packages (from requests>=2.19.0; extra == \"dash\"->interpret-core[dash,debug,decisiontree,ebm,lime,linear,notebook,plotly,required,sensitivity,shap,treeinterpreter]>=0.1.22->interpret) (2020.4.5.1)\n",
      "Requirement already satisfied: urllib3!=1.25.0,!=1.25.1,<1.26,>=1.21.1 in /home/barbara/.local/lib/python3.7/site-packages (from requests>=2.19.0; extra == \"dash\"->interpret-core[dash,debug,decisiontree,ebm,lime,linear,notebook,plotly,required,sensitivity,shap,treeinterpreter]>=0.1.22->interpret) (1.25.8)\n",
      "Requirement already satisfied: greenlet>=0.4.14 in /home/barbara/anaconda3/lib/python3.7/site-packages (from gevent>=1.3.6; extra == \"dash\"->interpret-core[dash,debug,decisiontree,ebm,lime,linear,notebook,plotly,required,sensitivity,shap,treeinterpreter]>=0.1.22->interpret) (0.4.15)\n",
      "Requirement already satisfied: matplotlib in /home/barbara/anaconda3/lib/python3.7/site-packages (from lime>=0.1.1.33; extra == \"lime\"->interpret-core[dash,debug,decisiontree,ebm,lime,linear,notebook,plotly,required,sensitivity,shap,treeinterpreter]>=0.1.22->interpret) (3.2.1)\n",
      "Requirement already satisfied: tqdm in /home/barbara/anaconda3/lib/python3.7/site-packages (from lime>=0.1.1.33; extra == \"lime\"->interpret-core[dash,debug,decisiontree,ebm,lime,linear,notebook,plotly,required,sensitivity,shap,treeinterpreter]>=0.1.22->interpret) (4.45.0)\n",
      "Requirement already satisfied: scikit-image>=0.12 in /home/barbara/anaconda3/lib/python3.7/site-packages (from lime>=0.1.1.33; extra == \"lime\"->interpret-core[dash,debug,decisiontree,ebm,lime,linear,notebook,plotly,required,sensitivity,shap,treeinterpreter]>=0.1.22->interpret) (0.16.2)\n",
      "Requirement already satisfied: pickleshare in /home/barbara/anaconda3/lib/python3.7/site-packages (from ipython>=7.4.0; extra == \"notebook\"->interpret-core[dash,debug,decisiontree,ebm,lime,linear,notebook,plotly,required,sensitivity,shap,treeinterpreter]>=0.1.22->interpret) (0.7.5)\n",
      "Requirement already satisfied: prompt-toolkit<2.1.0,>=2.0.0 in /home/barbara/anaconda3/lib/python3.7/site-packages (from ipython>=7.4.0; extra == \"notebook\"->interpret-core[dash,debug,decisiontree,ebm,lime,linear,notebook,plotly,required,sensitivity,shap,treeinterpreter]>=0.1.22->interpret) (2.0.10)\n",
      "Requirement already satisfied: traitlets>=4.2 in /home/barbara/anaconda3/lib/python3.7/site-packages (from ipython>=7.4.0; extra == \"notebook\"->interpret-core[dash,debug,decisiontree,ebm,lime,linear,notebook,plotly,required,sensitivity,shap,treeinterpreter]>=0.1.22->interpret) (4.3.3)\n"
     ]
    },
    {
     "name": "stdout",
     "output_type": "stream",
     "text": [
      "Requirement already satisfied: backcall in /home/barbara/anaconda3/lib/python3.7/site-packages (from ipython>=7.4.0; extra == \"notebook\"->interpret-core[dash,debug,decisiontree,ebm,lime,linear,notebook,plotly,required,sensitivity,shap,treeinterpreter]>=0.1.22->interpret) (0.1.0)\n",
      "Requirement already satisfied: decorator in /home/barbara/anaconda3/lib/python3.7/site-packages (from ipython>=7.4.0; extra == \"notebook\"->interpret-core[dash,debug,decisiontree,ebm,lime,linear,notebook,plotly,required,sensitivity,shap,treeinterpreter]>=0.1.22->interpret) (4.4.0)\n",
      "Requirement already satisfied: jedi>=0.10 in /home/barbara/anaconda3/lib/python3.7/site-packages (from ipython>=7.4.0; extra == \"notebook\"->interpret-core[dash,debug,decisiontree,ebm,lime,linear,notebook,plotly,required,sensitivity,shap,treeinterpreter]>=0.1.22->interpret) (0.15.1)\n",
      "Requirement already satisfied: pexpect; sys_platform != \"win32\" in /home/barbara/anaconda3/lib/python3.7/site-packages (from ipython>=7.4.0; extra == \"notebook\"->interpret-core[dash,debug,decisiontree,ebm,lime,linear,notebook,plotly,required,sensitivity,shap,treeinterpreter]>=0.1.22->interpret) (4.7.0)\n",
      "Requirement already satisfied: pygments in /home/barbara/anaconda3/lib/python3.7/site-packages (from ipython>=7.4.0; extra == \"notebook\"->interpret-core[dash,debug,decisiontree,ebm,lime,linear,notebook,plotly,required,sensitivity,shap,treeinterpreter]>=0.1.22->interpret) (2.4.2)\n",
      "Requirement already satisfied: setuptools>=18.5 in /home/barbara/anaconda3/lib/python3.7/site-packages (from ipython>=7.4.0; extra == \"notebook\"->interpret-core[dash,debug,decisiontree,ebm,lime,linear,notebook,plotly,required,sensitivity,shap,treeinterpreter]>=0.1.22->interpret) (41.4.0)\n",
      "Requirement already satisfied: jupyter-client in /home/barbara/anaconda3/lib/python3.7/site-packages (from ipykernel>=5.1.0; extra == \"notebook\"->interpret-core[dash,debug,decisiontree,ebm,lime,linear,notebook,plotly,required,sensitivity,shap,treeinterpreter]>=0.1.22->interpret) (6.1.3)\n",
      "Requirement already satisfied: tornado>=4.2 in /home/barbara/anaconda3/lib/python3.7/site-packages (from ipykernel>=5.1.0; extra == \"notebook\"->interpret-core[dash,debug,decisiontree,ebm,lime,linear,notebook,plotly,required,sensitivity,shap,treeinterpreter]>=0.1.22->interpret) (6.0.4)\n",
      "Requirement already satisfied: retrying>=1.3.3 in /home/barbara/anaconda3/lib/python3.7/site-packages (from plotly>=3.8.1; extra == \"plotly\"->interpret-core[dash,debug,decisiontree,ebm,lime,linear,notebook,plotly,required,sensitivity,shap,treeinterpreter]>=0.1.22->interpret) (1.3.3)\n",
      "Requirement already satisfied: six in /home/barbara/.local/lib/python3.7/site-packages (from plotly>=3.8.1; extra == \"plotly\"->interpret-core[dash,debug,decisiontree,ebm,lime,linear,notebook,plotly,required,sensitivity,shap,treeinterpreter]>=0.1.22->interpret) (1.14.0)\n",
      "Requirement already satisfied: pytz>=2017.2 in /home/barbara/anaconda3/lib/python3.7/site-packages (from pandas>=0.19.2; extra == \"required\"->interpret-core[dash,debug,decisiontree,ebm,lime,linear,notebook,plotly,required,sensitivity,shap,treeinterpreter]>=0.1.22->interpret) (2019.3)\n",
      "Requirement already satisfied: python-dateutil>=2.6.1 in /home/barbara/anaconda3/lib/python3.7/site-packages (from pandas>=0.19.2; extra == \"required\"->interpret-core[dash,debug,decisiontree,ebm,lime,linear,notebook,plotly,required,sensitivity,shap,treeinterpreter]>=0.1.22->interpret) (2.8.0)\n",
      "Requirement already satisfied: Werkzeug>=0.15 in /home/barbara/anaconda3/lib/python3.7/site-packages (from Flask>=1.0.2->dash>=1.0.0; extra == \"dash\"->interpret-core[dash,debug,decisiontree,ebm,lime,linear,notebook,plotly,required,sensitivity,shap,treeinterpreter]>=0.1.22->interpret) (0.16.0)\n",
      "Requirement already satisfied: Jinja2>=2.10.1 in /home/barbara/anaconda3/lib/python3.7/site-packages (from Flask>=1.0.2->dash>=1.0.0; extra == \"dash\"->interpret-core[dash,debug,decisiontree,ebm,lime,linear,notebook,plotly,required,sensitivity,shap,treeinterpreter]>=0.1.22->interpret) (2.11.2)\n",
      "Requirement already satisfied: click>=5.1 in /home/barbara/anaconda3/lib/python3.7/site-packages (from Flask>=1.0.2->dash>=1.0.0; extra == \"dash\"->interpret-core[dash,debug,decisiontree,ebm,lime,linear,notebook,plotly,required,sensitivity,shap,treeinterpreter]>=0.1.22->interpret) (7.0)\n",
      "Requirement already satisfied: itsdangerous>=0.24 in /home/barbara/anaconda3/lib/python3.7/site-packages (from Flask>=1.0.2->dash>=1.0.0; extra == \"dash\"->interpret-core[dash,debug,decisiontree,ebm,lime,linear,notebook,plotly,required,sensitivity,shap,treeinterpreter]>=0.1.22->interpret) (1.1.0)\n",
      "Collecting brotli\n",
      "  Downloading Brotli-1.0.7-cp37-cp37m-manylinux1_x86_64.whl (352 kB)\n",
      "\u001b[K     |████████████████████████████████| 352 kB 5.6 MB/s eta 0:00:01\n",
      "\u001b[?25hRequirement already satisfied: pyparsing!=2.0.4,!=2.1.2,!=2.1.6,>=2.0.1 in /home/barbara/anaconda3/lib/python3.7/site-packages (from matplotlib->lime>=0.1.1.33; extra == \"lime\"->interpret-core[dash,debug,decisiontree,ebm,lime,linear,notebook,plotly,required,sensitivity,shap,treeinterpreter]>=0.1.22->interpret) (2.4.2)\n",
      "Requirement already satisfied: cycler>=0.10 in /home/barbara/anaconda3/lib/python3.7/site-packages (from matplotlib->lime>=0.1.1.33; extra == \"lime\"->interpret-core[dash,debug,decisiontree,ebm,lime,linear,notebook,plotly,required,sensitivity,shap,treeinterpreter]>=0.1.22->interpret) (0.10.0)\n",
      "Requirement already satisfied: kiwisolver>=1.0.1 in /home/barbara/anaconda3/lib/python3.7/site-packages (from matplotlib->lime>=0.1.1.33; extra == \"lime\"->interpret-core[dash,debug,decisiontree,ebm,lime,linear,notebook,plotly,required,sensitivity,shap,treeinterpreter]>=0.1.22->interpret) (1.1.0)\n",
      "Requirement already satisfied: pillow>=4.3.0 in /home/barbara/anaconda3/lib/python3.7/site-packages (from scikit-image>=0.12->lime>=0.1.1.33; extra == \"lime\"->interpret-core[dash,debug,decisiontree,ebm,lime,linear,notebook,plotly,required,sensitivity,shap,treeinterpreter]>=0.1.22->interpret) (6.2.0)\n",
      "Requirement already satisfied: imageio>=2.3.0 in /home/barbara/anaconda3/lib/python3.7/site-packages (from scikit-image>=0.12->lime>=0.1.1.33; extra == \"lime\"->interpret-core[dash,debug,decisiontree,ebm,lime,linear,notebook,plotly,required,sensitivity,shap,treeinterpreter]>=0.1.22->interpret) (2.6.0)\n",
      "Requirement already satisfied: PyWavelets>=0.4.0 in /home/barbara/anaconda3/lib/python3.7/site-packages (from scikit-image>=0.12->lime>=0.1.1.33; extra == \"lime\"->interpret-core[dash,debug,decisiontree,ebm,lime,linear,notebook,plotly,required,sensitivity,shap,treeinterpreter]>=0.1.22->interpret) (1.0.3)\n",
      "Requirement already satisfied: networkx>=2.0 in /home/barbara/anaconda3/lib/python3.7/site-packages (from scikit-image>=0.12->lime>=0.1.1.33; extra == \"lime\"->interpret-core[dash,debug,decisiontree,ebm,lime,linear,notebook,plotly,required,sensitivity,shap,treeinterpreter]>=0.1.22->interpret) (2.4)\n",
      "Requirement already satisfied: wcwidth in /home/barbara/anaconda3/lib/python3.7/site-packages (from prompt-toolkit<2.1.0,>=2.0.0->ipython>=7.4.0; extra == \"notebook\"->interpret-core[dash,debug,decisiontree,ebm,lime,linear,notebook,plotly,required,sensitivity,shap,treeinterpreter]>=0.1.22->interpret) (0.1.7)\n",
      "Requirement already satisfied: ipython-genutils in /home/barbara/anaconda3/lib/python3.7/site-packages (from traitlets>=4.2->ipython>=7.4.0; extra == \"notebook\"->interpret-core[dash,debug,decisiontree,ebm,lime,linear,notebook,plotly,required,sensitivity,shap,treeinterpreter]>=0.1.22->interpret) (0.2.0)\n",
      "Requirement already satisfied: parso>=0.5.0 in /home/barbara/anaconda3/lib/python3.7/site-packages (from jedi>=0.10->ipython>=7.4.0; extra == \"notebook\"->interpret-core[dash,debug,decisiontree,ebm,lime,linear,notebook,plotly,required,sensitivity,shap,treeinterpreter]>=0.1.22->interpret) (0.5.1)\n",
      "Requirement already satisfied: ptyprocess>=0.5 in /home/barbara/anaconda3/lib/python3.7/site-packages (from pexpect; sys_platform != \"win32\"->ipython>=7.4.0; extra == \"notebook\"->interpret-core[dash,debug,decisiontree,ebm,lime,linear,notebook,plotly,required,sensitivity,shap,treeinterpreter]>=0.1.22->interpret) (0.6.0)\n",
      "Requirement already satisfied: jupyter-core>=4.6.0 in /home/barbara/anaconda3/lib/python3.7/site-packages (from jupyter-client->ipykernel>=5.1.0; extra == \"notebook\"->interpret-core[dash,debug,decisiontree,ebm,lime,linear,notebook,plotly,required,sensitivity,shap,treeinterpreter]>=0.1.22->interpret) (4.6.3)\n",
      "Requirement already satisfied: pyzmq>=13 in /home/barbara/anaconda3/lib/python3.7/site-packages (from jupyter-client->ipykernel>=5.1.0; extra == \"notebook\"->interpret-core[dash,debug,decisiontree,ebm,lime,linear,notebook,plotly,required,sensitivity,shap,treeinterpreter]>=0.1.22->interpret) (18.1.0)\n",
      "Requirement already satisfied: MarkupSafe>=0.23 in /home/barbara/anaconda3/lib/python3.7/site-packages (from Jinja2>=2.10.1->Flask>=1.0.2->dash>=1.0.0; extra == \"dash\"->interpret-core[dash,debug,decisiontree,ebm,lime,linear,notebook,plotly,required,sensitivity,shap,treeinterpreter]>=0.1.22->interpret) (1.1.1)\n"
     ]
    },
    {
     "name": "stdout",
     "output_type": "stream",
     "text": [
      "Building wheels for collected packages: dash, dash-table, dash-cytoscape, lime, SALib, dill, shap, flask-compress, dash-renderer, dash-core-components, dash-html-components\n",
      "  Building wheel for dash (setup.py) ... \u001b[?25ldone\n",
      "\u001b[?25h  Created wheel for dash: filename=dash-1.13.4-py3-none-any.whl size=74951 sha256=2ad768ceeb2ff5233bcf56bb0cbf16fb0a95a5945b67dabb8476025418d89059\n",
      "  Stored in directory: /home/barbara/.cache/pip/wheels/06/28/f7/a5ce9b564da2bb24f6c8fbe190c0458c6ff4a497a937815103\n",
      "  Building wheel for dash-table (setup.py) ... \u001b[?25ldone\n",
      "\u001b[?25h  Created wheel for dash-table: filename=dash_table-4.8.1-py3-none-any.whl size=1779391 sha256=807f33b46e317d96f2e68870d8864c237ceead02945b5aa944378493db14a056\n",
      "  Stored in directory: /home/barbara/.cache/pip/wheels/66/81/95/b2774b227694b28cf1a6a7dcb92af258cebac354dfa67af6bb\n",
      "  Building wheel for dash-cytoscape (setup.py) ... \u001b[?25ldone\n",
      "\u001b[?25h  Created wheel for dash-cytoscape: filename=dash_cytoscape-0.1.1-py3-none-any.whl size=3430004 sha256=8a9ac5e1774552d38efbf56468abfa42a31f5ab3c12149fed2eb1852f165e807\n",
      "  Stored in directory: /home/barbara/.cache/pip/wheels/de/89/81/656c33c7cc0c05386d377d84720c524acaf316cdd97f7a1495\n",
      "  Building wheel for lime (setup.py) ... \u001b[?25ldone\n",
      "\u001b[?25h  Created wheel for lime: filename=lime-0.2.0.1-py3-none-any.whl size=283845 sha256=72c620f12fffea9f5d368c0b02a35d5f39d37562036a9efb377721f7675f47b7\n",
      "  Stored in directory: /home/barbara/.cache/pip/wheels/ca/cb/e5/ac701e12d365a08917bf4c6171c0961bc880a8181359c66aa7\n",
      "  Building wheel for SALib (setup.py) ... \u001b[?25ldone\n",
      "\u001b[?25h  Created wheel for SALib: filename=SALib-1.3.11-py2.py3-none-any.whl size=729665 sha256=7ab175c58571a2eb7a1d9cce6196116bffef7f1846840215bbb7d5b9443b449a\n",
      "  Stored in directory: /home/barbara/.cache/pip/wheels/d4/de/3a/aa3aaf0cf86e457ad17fd1a96da508afef832696f9ad7caa10\n",
      "  Building wheel for dill (setup.py) ... \u001b[?25ldone\n",
      "\u001b[?25h  Created wheel for dill: filename=dill-0.3.2-py3-none-any.whl size=78912 sha256=fded292d72f56f3300cfb58eadee959c4ebbccbd2f1063a91006b166d16b00b7\n",
      "  Stored in directory: /home/barbara/.cache/pip/wheels/72/6b/d5/5548aa1b73b8c3d176ea13f9f92066b02e82141549d90e2100\n",
      "  Building wheel for shap (setup.py) ... \u001b[?25ldone\n",
      "\u001b[?25h  Created wheel for shap: filename=shap-0.35.0-cp37-cp37m-linux_x86_64.whl size=399328 sha256=f4c5e7050c00f929b1f2c473f5de7022538851cf53d8add79d823d28c76fb654\n",
      "  Stored in directory: /home/barbara/.cache/pip/wheels/c3/e0/82/26cebc699e23c6a1b9963981e1a10ed7de75db012f4af12428\n",
      "  Building wheel for flask-compress (setup.py) ... \u001b[?25ldone\n",
      "\u001b[?25h  Created wheel for flask-compress: filename=Flask_Compress-1.5.0-py3-none-any.whl size=5272 sha256=88255212b4a043efe452f8dad21f29ae434d844430dc92350dead847c130b3d2\n",
      "  Stored in directory: /home/barbara/.cache/pip/wheels/d6/9f/c9/4bf2abf65cceaa8d19423bc34b88443b3b063f167d2082c212\n",
      "  Building wheel for dash-renderer (setup.py) ... \u001b[?25ldone\n",
      "\u001b[?25h  Created wheel for dash-renderer: filename=dash_renderer-1.5.1-py3-none-any.whl size=1182059 sha256=00c115feb19944a8293aa91d1101c68574c998cffbbf5a0009b0d22658efcaa6\n",
      "  Stored in directory: /home/barbara/.cache/pip/wheels/bd/ab/c9/0f49b8aeec6b07e30f7dacd9128a1571bd583f39d316affb7f\n",
      "  Building wheel for dash-core-components (setup.py) ... \u001b[?25ldone\n",
      "\u001b[?25h  Created wheel for dash-core-components: filename=dash_core_components-1.10.1-py3-none-any.whl size=3458659 sha256=f024386cc6395160826fe9a11d8564cb2045a364671c6a9fc34c95447dc76c82\n",
      "  Stored in directory: /home/barbara/.cache/pip/wheels/10/6c/7a/8849a35d2f66126db2773d0575c2b1e07897701ae2d23c7f2e\n",
      "  Building wheel for dash-html-components (setup.py) ... \u001b[?25ldone\n",
      "\u001b[?25h  Created wheel for dash-html-components: filename=dash_html_components-1.0.3-py3-none-any.whl size=427304 sha256=eb69660de465dd5b6deec5c65ba6c6d3646cdf0984e24e4e84f0c6bd7ed34e86\n",
      "  Stored in directory: /home/barbara/.cache/pip/wheels/36/34/f9/c3d147461b28467d5bbd14d255be66f6728a1580ff9fbebece\n",
      "Successfully built dash dash-table dash-cytoscape lime SALib dill shap flask-compress dash-renderer dash-core-components dash-html-components\n",
      "Installing collected packages: brotli, flask-compress, dash-renderer, dash-core-components, dash-html-components, dash-table, dash, dash-cytoscape, lime, SALib, dill, shap, treeinterpreter, interpret-core, interpret\n",
      "Successfully installed SALib-1.3.11 brotli-1.0.7 dash-1.13.4 dash-core-components-1.10.1 dash-cytoscape-0.1.1 dash-html-components-1.0.3 dash-renderer-1.5.1 dash-table-4.8.1 dill-0.3.2 flask-compress-1.5.0 interpret-0.1.22 interpret-core-0.1.22 lime-0.2.0.1 shap-0.35.0 treeinterpreter-0.2.2\n"
     ]
    }
   ],
   "source": [
    "!pip install interpret"
   ]
  },
  {
   "cell_type": "code",
   "execution_count": 1,
   "metadata": {},
   "outputs": [],
   "source": [
    "import pandas as pd\n",
    "from sklearn.model_selection import train_test_split\n",
    "\n",
    "df = pd.read_csv(\n",
    "    \"https://archive.ics.uci.edu/ml/machine-learning-databases/adult/adult.data\",\n",
    "    header=None)\n",
    "df.columns = [\n",
    "    \"Age\", \"WorkClass\", \"fnlwgt\", \"Education\", \"EducationNum\",\n",
    "    \"MaritalStatus\", \"Occupation\", \"Relationship\", \"Race\", \"Gender\",\n",
    "    \"CapitalGain\", \"CapitalLoss\", \"HoursPerWeek\", \"NativeCountry\", \"Income\"\n",
    "]\n",
    "# df = df.sample(frac=0.1, random_state=1)\n",
    "train_cols = df.columns[0:-1]\n",
    "label = df.columns[-1]\n",
    "X = df[train_cols]\n",
    "y = df[label].apply(lambda x: 0 if x == \" <=50K\" else 1) #Turning response into 0 and 1\n",
    "\n",
    "seed = 1\n",
    "X_train, X_test, y_train, y_test = train_test_split(X, y, test_size=0.20, random_state=seed)"
   ]
  },
  {
   "cell_type": "code",
   "execution_count": 6,
   "metadata": {},
   "outputs": [
    {
     "data": {
      "text/html": [
       "<div>\n",
       "<style scoped>\n",
       "    .dataframe tbody tr th:only-of-type {\n",
       "        vertical-align: middle;\n",
       "    }\n",
       "\n",
       "    .dataframe tbody tr th {\n",
       "        vertical-align: top;\n",
       "    }\n",
       "\n",
       "    .dataframe thead th {\n",
       "        text-align: right;\n",
       "    }\n",
       "</style>\n",
       "<table border=\"1\" class=\"dataframe\">\n",
       "  <thead>\n",
       "    <tr style=\"text-align: right;\">\n",
       "      <th></th>\n",
       "      <th>Age</th>\n",
       "      <th>WorkClass</th>\n",
       "      <th>fnlwgt</th>\n",
       "      <th>Education</th>\n",
       "      <th>EducationNum</th>\n",
       "      <th>MaritalStatus</th>\n",
       "      <th>Occupation</th>\n",
       "      <th>Relationship</th>\n",
       "      <th>Race</th>\n",
       "      <th>Gender</th>\n",
       "      <th>CapitalGain</th>\n",
       "      <th>CapitalLoss</th>\n",
       "      <th>HoursPerWeek</th>\n",
       "      <th>NativeCountry</th>\n",
       "      <th>Income</th>\n",
       "    </tr>\n",
       "  </thead>\n",
       "  <tbody>\n",
       "    <tr>\n",
       "      <th>0</th>\n",
       "      <td>39</td>\n",
       "      <td>State-gov</td>\n",
       "      <td>77516</td>\n",
       "      <td>Bachelors</td>\n",
       "      <td>13</td>\n",
       "      <td>Never-married</td>\n",
       "      <td>Adm-clerical</td>\n",
       "      <td>Not-in-family</td>\n",
       "      <td>White</td>\n",
       "      <td>Male</td>\n",
       "      <td>2174</td>\n",
       "      <td>0</td>\n",
       "      <td>40</td>\n",
       "      <td>United-States</td>\n",
       "      <td>&lt;=50K</td>\n",
       "    </tr>\n",
       "    <tr>\n",
       "      <th>1</th>\n",
       "      <td>50</td>\n",
       "      <td>Self-emp-not-inc</td>\n",
       "      <td>83311</td>\n",
       "      <td>Bachelors</td>\n",
       "      <td>13</td>\n",
       "      <td>Married-civ-spouse</td>\n",
       "      <td>Exec-managerial</td>\n",
       "      <td>Husband</td>\n",
       "      <td>White</td>\n",
       "      <td>Male</td>\n",
       "      <td>0</td>\n",
       "      <td>0</td>\n",
       "      <td>13</td>\n",
       "      <td>United-States</td>\n",
       "      <td>&lt;=50K</td>\n",
       "    </tr>\n",
       "    <tr>\n",
       "      <th>2</th>\n",
       "      <td>38</td>\n",
       "      <td>Private</td>\n",
       "      <td>215646</td>\n",
       "      <td>HS-grad</td>\n",
       "      <td>9</td>\n",
       "      <td>Divorced</td>\n",
       "      <td>Handlers-cleaners</td>\n",
       "      <td>Not-in-family</td>\n",
       "      <td>White</td>\n",
       "      <td>Male</td>\n",
       "      <td>0</td>\n",
       "      <td>0</td>\n",
       "      <td>40</td>\n",
       "      <td>United-States</td>\n",
       "      <td>&lt;=50K</td>\n",
       "    </tr>\n",
       "    <tr>\n",
       "      <th>3</th>\n",
       "      <td>53</td>\n",
       "      <td>Private</td>\n",
       "      <td>234721</td>\n",
       "      <td>11th</td>\n",
       "      <td>7</td>\n",
       "      <td>Married-civ-spouse</td>\n",
       "      <td>Handlers-cleaners</td>\n",
       "      <td>Husband</td>\n",
       "      <td>Black</td>\n",
       "      <td>Male</td>\n",
       "      <td>0</td>\n",
       "      <td>0</td>\n",
       "      <td>40</td>\n",
       "      <td>United-States</td>\n",
       "      <td>&lt;=50K</td>\n",
       "    </tr>\n",
       "    <tr>\n",
       "      <th>4</th>\n",
       "      <td>28</td>\n",
       "      <td>Private</td>\n",
       "      <td>338409</td>\n",
       "      <td>Bachelors</td>\n",
       "      <td>13</td>\n",
       "      <td>Married-civ-spouse</td>\n",
       "      <td>Prof-specialty</td>\n",
       "      <td>Wife</td>\n",
       "      <td>Black</td>\n",
       "      <td>Female</td>\n",
       "      <td>0</td>\n",
       "      <td>0</td>\n",
       "      <td>40</td>\n",
       "      <td>Cuba</td>\n",
       "      <td>&lt;=50K</td>\n",
       "    </tr>\n",
       "  </tbody>\n",
       "</table>\n",
       "</div>"
      ],
      "text/plain": [
       "   Age          WorkClass  fnlwgt   Education  EducationNum  \\\n",
       "0   39          State-gov   77516   Bachelors            13   \n",
       "1   50   Self-emp-not-inc   83311   Bachelors            13   \n",
       "2   38            Private  215646     HS-grad             9   \n",
       "3   53            Private  234721        11th             7   \n",
       "4   28            Private  338409   Bachelors            13   \n",
       "\n",
       "         MaritalStatus          Occupation    Relationship    Race   Gender  \\\n",
       "0        Never-married        Adm-clerical   Not-in-family   White     Male   \n",
       "1   Married-civ-spouse     Exec-managerial         Husband   White     Male   \n",
       "2             Divorced   Handlers-cleaners   Not-in-family   White     Male   \n",
       "3   Married-civ-spouse   Handlers-cleaners         Husband   Black     Male   \n",
       "4   Married-civ-spouse      Prof-specialty            Wife   Black   Female   \n",
       "\n",
       "   CapitalGain  CapitalLoss  HoursPerWeek   NativeCountry  Income  \n",
       "0         2174            0            40   United-States   <=50K  \n",
       "1            0            0            13   United-States   <=50K  \n",
       "2            0            0            40   United-States   <=50K  \n",
       "3            0            0            40   United-States   <=50K  \n",
       "4            0            0            40            Cuba   <=50K  "
      ]
     },
     "execution_count": 6,
     "metadata": {},
     "output_type": "execute_result"
    }
   ],
   "source": [
    "df.head()"
   ]
  },
  {
   "cell_type": "code",
   "execution_count": 7,
   "metadata": {},
   "outputs": [
    {
     "data": {
      "text/plain": [
       "(32561, 15)"
      ]
     },
     "execution_count": 7,
     "metadata": {},
     "output_type": "execute_result"
    }
   ],
   "source": [
    "df.shape"
   ]
  },
  {
   "cell_type": "code",
   "execution_count": 4,
   "metadata": {},
   "outputs": [],
   "source": [
    "from interpret import show\n",
    "from interpret.data import ClassHistogram"
   ]
  },
  {
   "cell_type": "code",
   "execution_count": 5,
   "metadata": {
    "scrolled": true
   },
   "outputs": [
    {
     "data": {
      "text/html": [
       "<!-- http://127.0.0.1:7751/139933013123024/ -->\n",
       "<iframe src=\"http://127.0.0.1:7751/139933013123024/\" width=100% height=800 frameBorder=\"0\"></iframe>"
      ]
     },
     "metadata": {},
     "output_type": "display_data"
    }
   ],
   "source": [
    "hist = ClassHistogram().explain_data(X_train, y_train, name = 'Train Data')\n",
    "show(hist)"
   ]
  },
  {
   "cell_type": "code",
   "execution_count": 8,
   "metadata": {},
   "outputs": [
    {
     "data": {
      "text/plain": [
       "ExplainableBoostingClassifier(binning_strategy='quantile', data_n_episodes=2000,\n",
       "                              early_stopping_run_length=50,\n",
       "                              early_stopping_tolerance=1e-05,\n",
       "                              feature_names=['Age', 'WorkClass', 'fnlwgt',\n",
       "                                             'Education', 'EducationNum',\n",
       "                                             'MaritalStatus', 'Occupation',\n",
       "                                             'Relationship', 'Race', 'Gender',\n",
       "                                             'CapitalGain', 'CapitalLoss',\n",
       "                                             'HoursPerWeek', 'NativeCountry'],\n",
       "                              feature_step_n_inner_b...\n",
       "                                             'continuous', 'categorical',\n",
       "                                             'categorical', 'categorical',\n",
       "                                             'categorical', 'categorical',\n",
       "                                             'continuous', 'continuous',\n",
       "                                             'continuous', 'categorical'],\n",
       "                              holdout_size=0.15, holdout_split=0.15,\n",
       "                              interactions=0, learning_rate=0.01,\n",
       "                              main_attr='all', max_n_bins=255,\n",
       "                              max_tree_splits=2, min_cases_for_splits=2,\n",
       "                              n_estimators=16, n_jobs=-2, random_state=1,\n",
       "                              schema=None, scoring=None,\n",
       "                              training_step_episodes=1)"
      ]
     },
     "execution_count": 8,
     "metadata": {},
     "output_type": "execute_result"
    }
   ],
   "source": [
    "from interpret.glassbox import ExplainableBoostingClassifier, LogisticRegression, ClassificationTree, DecisionListClassifier\n",
    "\n",
    "ebm = ExplainableBoostingClassifier(random_state=seed)\n",
    "ebm.fit(X_train, y_train)   #Works on dataframes and numpy arrays"
   ]
  },
  {
   "cell_type": "code",
   "execution_count": 9,
   "metadata": {
    "scrolled": true
   },
   "outputs": [
    {
     "data": {
      "text/html": [
       "<!-- http://127.0.0.1:7751/139932864348816/ -->\n",
       "<iframe src=\"http://127.0.0.1:7751/139932864348816/\" width=100% height=800 frameBorder=\"0\"></iframe>"
      ]
     },
     "metadata": {},
     "output_type": "display_data"
    }
   ],
   "source": [
    "ebm_global = ebm.explain_global(name='EBM')\n",
    "show(ebm_global)"
   ]
  },
  {
   "cell_type": "code",
   "execution_count": 19,
   "metadata": {},
   "outputs": [
    {
     "data": {
      "text/html": [
       "<!-- http://127.0.0.1:7751/139934062932496/ -->\n",
       "<iframe src=\"http://127.0.0.1:7751/139934062932496/\" width=100% height=800 frameBorder=\"0\"></iframe>"
      ]
     },
     "metadata": {},
     "output_type": "display_data"
    }
   ],
   "source": [
    "ebm_local = ebm.explain_local(X_test[:100], y_test[:100], name='EBM')\n",
    "show(ebm_local)"
   ]
  },
  {
   "cell_type": "code",
   "execution_count": 20,
   "metadata": {},
   "outputs": [
    {
     "data": {
      "text/html": [
       "<!-- http://127.0.0.1:7751/139932581579792/ -->\n",
       "<iframe src=\"http://127.0.0.1:7751/139932581579792/\" width=100% height=800 frameBorder=\"0\"></iframe>"
      ]
     },
     "metadata": {},
     "output_type": "display_data"
    }
   ],
   "source": [
    "from interpret.perf import ROC\n",
    "\n",
    "ebm_perf = ROC(ebm.predict_proba).explain_perf(X_test, y_test, name='EBM')\n",
    "show(ebm_perf)"
   ]
  },
  {
   "cell_type": "code",
   "execution_count": 21,
   "metadata": {},
   "outputs": [
    {
     "data": {
      "text/plain": [
       "<interpret.glassbox.decisiontree.ClassificationTree at 0x7f4496f7e510>"
      ]
     },
     "execution_count": 21,
     "metadata": {},
     "output_type": "execute_result"
    }
   ],
   "source": [
    "from interpret.glassbox import LogisticRegression, ClassificationTree\n",
    "\n",
    "# We have to transform categorical variables to use Logistic Regression and Decision Tree\n",
    "X_enc = pd.get_dummies(X, prefix_sep='.')\n",
    "feature_names = list(X_enc.columns)\n",
    "X_train_enc, X_test_enc, y_train, y_test = train_test_split(X_enc, y, test_size=0.20, random_state=seed)\n",
    "\n",
    "lr = LogisticRegression(random_state=seed, feature_names=feature_names, penalty='l1', solver='liblinear')\n",
    "lr.fit(X_train_enc, y_train)\n",
    "\n",
    "tree = ClassificationTree()\n",
    "tree.fit(X_train_enc, y_train)"
   ]
  },
  {
   "cell_type": "code",
   "execution_count": 24,
   "metadata": {},
   "outputs": [
    {
     "data": {
      "text/html": [
       "<!-- http://127.0.0.1:7751/139932567021008/ -->\n",
       "<iframe src=\"http://127.0.0.1:7751/139932567021008/\" width=100% height=800 frameBorder=\"0\"></iframe>"
      ]
     },
     "metadata": {},
     "output_type": "display_data"
    },
    {
     "data": {
      "text/html": [
       "<!-- http://127.0.0.1:7751/139932567059088/ -->\n",
       "<iframe src=\"http://127.0.0.1:7751/139932567059088/\" width=100% height=800 frameBorder=\"0\"></iframe>"
      ]
     },
     "metadata": {},
     "output_type": "display_data"
    },
    {
     "data": {
      "text/html": [
       "<!-- http://127.0.0.1:7751/139932581579792/ -->\n",
       "<iframe src=\"http://127.0.0.1:7751/139932581579792/\" width=100% height=800 frameBorder=\"0\"></iframe>"
      ]
     },
     "metadata": {},
     "output_type": "display_data"
    }
   ],
   "source": [
    "lr_perf = ROC(lr.predict_proba).explain_perf(X_test_enc, y_test, name='Logistic Regression')\n",
    "tree_perf = ROC(tree.predict_proba).explain_perf(X_test_enc, y_test, name='Classification Tree')\n",
    "\n",
    "show(lr_perf)\n",
    "show(tree_perf)\n",
    "show(ebm_perf)"
   ]
  },
  {
   "cell_type": "code",
   "execution_count": 27,
   "metadata": {},
   "outputs": [
    {
     "data": {
      "text/html": [
       "<!-- http://127.0.0.1:7751/139932864562064/ -->\n",
       "<iframe src=\"http://127.0.0.1:7751/139932864562064/\" width=100% height=800 frameBorder=\"0\"></iframe>"
      ]
     },
     "metadata": {},
     "output_type": "display_data"
    },
    {
     "data": {
      "text/html": [
       "<!-- http://127.0.0.1:7751/139932864333648/ -->\n",
       "<iframe src=\"http://127.0.0.1:7751/139932864333648/\" width=100% height=800 frameBorder=\"0\"></iframe>"
      ]
     },
     "metadata": {},
     "output_type": "display_data"
    },
    {
     "data": {
      "text/html": [
       "<!-- http://127.0.0.1:7751/139932864348816/ -->\n",
       "<iframe src=\"http://127.0.0.1:7751/139932864348816/\" width=100% height=800 frameBorder=\"0\"></iframe>"
      ]
     },
     "metadata": {},
     "output_type": "display_data"
    }
   ],
   "source": [
    "lr_global = lr.explain_global(name='Logistic Regression')\n",
    "tree_global = tree.explain_global(name='Classification Tree')\n",
    "\n",
    "show(lr_global)\n",
    "show(tree_global)\n",
    "show(ebm_global)"
   ]
  },
  {
   "cell_type": "code",
   "execution_count": null,
   "metadata": {},
   "outputs": [],
   "source": []
  },
  {
   "cell_type": "code",
   "execution_count": null,
   "metadata": {},
   "outputs": [],
   "source": []
  },
  {
   "cell_type": "code",
   "execution_count": 28,
   "metadata": {},
   "outputs": [
    {
     "data": {
      "text/html": [
       "<!-- http://127.0.0.1:7751/139932725037888/ -->\n",
       "<a href=\"http://127.0.0.1:7751/139932725037888/\" target=\"_new\">Open in new window</a><iframe src=\"http://127.0.0.1:7751/139932725037888/\" width=100% height=800 frameBorder=\"0\"></iframe>"
      ]
     },
     "metadata": {},
     "output_type": "display_data"
    }
   ],
   "source": [
    "# Do everything in one shot with the InterpretML Dashboard by passing a list into show\n",
    "\n",
    "show([hist, lr_global, lr_perf, tree_global, tree_perf, ebm_global, ebm_perf], share_tables=True)"
   ]
  },
  {
   "cell_type": "code",
   "execution_count": null,
   "metadata": {},
   "outputs": [],
   "source": []
  }
 ],
 "metadata": {
  "kernelspec": {
   "display_name": "Python 3",
   "language": "python",
   "name": "python3"
  },
  "language_info": {
   "codemirror_mode": {
    "name": "ipython",
    "version": 3
   },
   "file_extension": ".py",
   "mimetype": "text/x-python",
   "name": "python",
   "nbconvert_exporter": "python",
   "pygments_lexer": "ipython3",
   "version": "3.7.4"
  }
 },
 "nbformat": 4,
 "nbformat_minor": 2
}
